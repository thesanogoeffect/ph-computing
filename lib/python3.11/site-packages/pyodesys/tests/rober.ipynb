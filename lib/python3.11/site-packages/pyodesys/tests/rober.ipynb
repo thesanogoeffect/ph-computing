{
 "cells": [
  {
   "cell_type": "code",
   "execution_count": null,
   "metadata": {
    "collapsed": true
   },
   "outputs": [],
   "source": [
    "from pyodesys.tests._robertson import get_ode_exprs\n",
    "import sympy as sp\n",
    "from sympy import symbols\n",
    "sp.init_printing()"
   ]
  },
  {
   "cell_type": "code",
   "execution_count": null,
   "metadata": {
    "collapsed": true
   },
   "outputs": [],
   "source": [
    "fj = [get_ode_exprs(reduced=reduced) for reduced in range(4)]"
   ]
  },
  {
   "cell_type": "code",
   "execution_count": null,
   "metadata": {
    "collapsed": false
   },
   "outputs": [],
   "source": [
    "t = symbols('t')\n",
    "y = A, B, C = symbols('A B C')\n",
    "inits = symbols('A0 B0 C0')\n",
    "p = symbols('k1 k2 k3')\n",
    "p1 = p2 = p3 = p + inits\n",
    "y1, y2, y3 = [B, C], [A, C], [A, B]"
   ]
  },
  {
   "cell_type": "code",
   "execution_count": null,
   "metadata": {
    "collapsed": false
   },
   "outputs": [],
   "source": [
    "f0, j0 = fj[0][0](t, y, p, backend=sp), fj[0][1](t, y, p, backend=sp)\n",
    "f0, sp.Matrix(j0)"
   ]
  },
  {
   "cell_type": "code",
   "execution_count": null,
   "metadata": {
    "collapsed": false
   },
   "outputs": [],
   "source": [
    "f1, j1 = fj[1][0](t, y1, p1, backend=sp), fj[1][1](t, y1, p1, backend=sp)\n",
    "f1, sp.Matrix(j1)"
   ]
  },
  {
   "cell_type": "code",
   "execution_count": null,
   "metadata": {
    "collapsed": false
   },
   "outputs": [],
   "source": [
    "f2, j2 = fj[2][0](t, y2, p2, backend=sp), fj[2][1](t, y2, p2, backend=sp)\n",
    "f2, sp.Matrix(j2)"
   ]
  },
  {
   "cell_type": "code",
   "execution_count": null,
   "metadata": {
    "collapsed": false
   },
   "outputs": [],
   "source": [
    "f3, j3 = fj[3][0](t, y3, p3, backend=sp), fj[3][1](t, y3, p3, backend=sp)\n",
    "f3, sp.Matrix(j3)"
   ]
  },
  {
   "cell_type": "code",
   "execution_count": null,
   "metadata": {
    "collapsed": false
   },
   "outputs": [],
   "source": [
    "diff1 = sp.Matrix(f1).jacobian(y1) - sp.Matrix(j1)\n",
    "diff1.simplify()\n",
    "diff1"
   ]
  },
  {
   "cell_type": "code",
   "execution_count": null,
   "metadata": {
    "collapsed": false
   },
   "outputs": [],
   "source": [
    "diff2 = sp.Matrix(f2).jacobian(y2) - sp.Matrix(j2)\n",
    "diff2.simplify()\n",
    "diff2"
   ]
  },
  {
   "cell_type": "code",
   "execution_count": null,
   "metadata": {
    "collapsed": false
   },
   "outputs": [],
   "source": [
    "diff3 = sp.Matrix(f3).jacobian(y3) - sp.Matrix(j3)\n",
    "diff3.simplify()\n",
    "diff3"
   ]
  }
 ],
 "metadata": {
  "kernelspec": {
   "display_name": "Python 3",
   "language": "python",
   "name": "python3"
  },
  "language_info": {
   "codemirror_mode": {
    "name": "ipython",
    "version": 3
   },
   "file_extension": ".py",
   "mimetype": "text/x-python",
   "name": "python",
   "nbconvert_exporter": "python",
   "pygments_lexer": "ipython3",
   "version": "3.5.2"
  }
 },
 "nbformat": 4,
 "nbformat_minor": 1
}
