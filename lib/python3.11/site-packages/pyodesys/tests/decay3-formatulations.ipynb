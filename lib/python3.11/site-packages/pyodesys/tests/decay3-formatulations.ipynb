{
 "cells": [
  {
   "cell_type": "code",
   "execution_count": null,
   "metadata": {
    "collapsed": true
   },
   "outputs": [],
   "source": [
    "import matplotlib.pyplot as plt\n",
    "import sympy as sp\n",
    "import numpy as np\n",
    "from IPython.display import display\n",
    "from pyodesys.symbolic import SymbolicSys, PartiallySolvedSystem, symmetricsys\n",
    "from pyodesys.tests.bateman import bateman_full\n",
    "sp.init_printing()\n",
    "%matplotlib inline"
   ]
  },
  {
   "cell_type": "code",
   "execution_count": null,
   "metadata": {
    "collapsed": true
   },
   "outputs": [],
   "source": [
    "logexp = (sp.log, sp.exp)\n",
    "LogLogSys = symmetricsys(logexp, logexp)\n",
    "LogDepSys = symmetricsys(logexp)\n",
    "\n",
    "def integrate_and_plot(mysys, zero_time=0):\n",
    "    y0 = [3, 2, 1]\n",
    "    k = [3, 2, 1]\n",
    "    atol = 1e-8\n",
    "    oderes = mysys.integrate([zero_time, 1], y0, k, integrator='cvode', atol=atol, rtol=1e-10)\n",
    "    plt.figure(figsize=(14,4))\n",
    "    plt.subplot(1, 2, 1)\n",
    "    oderes.plot()\n",
    "    ref = np.asarray(bateman_full(y0, k, oderes.xout, exp=np.exp)).T\n",
    "    plt.subplot(1, 2, 2)\n",
    "    aerr_over_atol = (oderes.yout - ref)/atol\n",
    "    for column, color, linestyle in zip(aerr_over_atol.T, 'krg', ('-', '--', ':')):\n",
    "        plt.plot(oderes.xout, column, c=color, ls=linestyle)\n",
    "    plt.ylabel('Absolute error / Absolute tolerance')\n",
    "    print({k: v for k, v in oderes[2].items() if k in 'nfev njev time_cpu'.split()})\n",
    "\n",
    "def powsimp_proc(exprs):\n",
    "    return [sp.powsimp(expr.expand(), force=True) for expr in exprs]"
   ]
  },
  {
   "cell_type": "code",
   "execution_count": null,
   "metadata": {
    "collapsed": false
   },
   "outputs": [],
   "source": [
    "odesys = SymbolicSys.from_callback(\n",
    "    lambda x, y, p: [-p[0]*y[0], p[0]*y[0]-p[1]*y[1], p[1]*y[1]-p[2]*y[2]], 3, 3)\n",
    "print(\"Linear system (ny=%d)\" % odesys.ny)\n",
    "display(odesys.exprs)\n",
    "integrate_and_plot(odesys)"
   ]
  },
  {
   "cell_type": "code",
   "execution_count": null,
   "metadata": {
    "collapsed": false
   },
   "outputs": [],
   "source": [
    "partsys = PartiallySolvedSystem(odesys, lambda x0, y0, p0, be: {\n",
    "        odesys.dep[0]: y0[0]*be.exp(-p0[0]*odesys.indep)})\n",
    "print(\"Partially solved linear system (ny=%d)\" % partsys.ny)\n",
    "display(partsys.exprs)\n",
    "integrate_and_plot(partsys)"
   ]
  },
  {
   "cell_type": "code",
   "execution_count": null,
   "metadata": {
    "collapsed": false
   },
   "outputs": [],
   "source": [
    "llsys = LogLogSys.from_other(odesys, exprs_process_cb=powsimp_proc)\n",
    "print(\"Log/Log transformed system (ny=%d)\" % llsys.ny)\n",
    "display(llsys.exprs)\n",
    "integrate_and_plot(llsys, zero_time=1e-10)"
   ]
  },
  {
   "cell_type": "code",
   "execution_count": null,
   "metadata": {
    "collapsed": false
   },
   "outputs": [],
   "source": [
    "llpartsys = LogLogSys.from_other(partsys, exprs_process_cb=powsimp_proc)\n",
    "print(\"Log/Log transformed system (ny=%d)\" % llpartsys.ny)\n",
    "display(llpartsys.exprs)\n",
    "integrate_and_plot(llpartsys, zero_time=1e-10)"
   ]
  },
  {
   "cell_type": "code",
   "execution_count": null,
   "metadata": {
    "collapsed": false
   },
   "outputs": [],
   "source": [
    "ldepsys = LogDepSys.from_other(odesys, exprs_process_cb=powsimp_proc)\n",
    "print(\"ln(y) transformed system (ny=%d)\" % ldepsys.ny)\n",
    "display(ldepsys.exprs)\n",
    "integrate_and_plot(ldepsys)"
   ]
  },
  {
   "cell_type": "code",
   "execution_count": null,
   "metadata": {
    "collapsed": false
   },
   "outputs": [],
   "source": [
    "ldeppartsys = LogDepSys.from_other(partsys, exprs_process_cb=powsimp_proc)\n",
    "print(\"ln(y) transformed partially solved system (ny=%d)\" % ldeppartsys.ny)\n",
    "display(ldeppartsys.exprs)\n",
    "integrate_and_plot(ldeppartsys)"
   ]
  },
  {
   "cell_type": "code",
   "execution_count": null,
   "metadata": {
    "collapsed": true
   },
   "outputs": [],
   "source": []
  },
  {
   "cell_type": "code",
   "execution_count": null,
   "metadata": {
    "collapsed": true
   },
   "outputs": [],
   "source": []
  }
 ],
 "metadata": {
  "kernelspec": {
   "display_name": "Python 3",
   "language": "python",
   "name": "python3"
  },
  "language_info": {
   "codemirror_mode": {
    "name": "ipython",
    "version": 3
   },
   "file_extension": ".py",
   "mimetype": "text/x-python",
   "name": "python",
   "nbconvert_exporter": "python",
   "pygments_lexer": "ipython3",
   "version": "3.5.2"
  }
 },
 "nbformat": 4,
 "nbformat_minor": 1
}
